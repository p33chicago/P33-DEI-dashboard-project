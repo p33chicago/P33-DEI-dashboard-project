{
 "cells": [
  {
   "cell_type": "markdown",
   "id": "bc892cec-fff6-42a6-9326-96dc5f56293f",
   "metadata": {},
   "source": [
    "# Transformation (output)\n",
    "\n",
    "This notebook load our previously-ingested data and outputs Plotly figure JSON. This output can then be compiled into the website and rendered with Plotly.js"
   ]
  },
  {
   "cell_type": "code",
   "execution_count": null,
   "id": "ceb5d70b-7566-4ce5-81d7-f4644eebadd3",
   "metadata": {
    "tags": []
   },
   "outputs": [],
   "source": [
    "pip install -r ../requirements.txt"
   ]
  },
  {
   "cell_type": "code",
   "execution_count": null,
   "id": "e8a48ea3-582f-4356-8edf-428e161203c9",
   "metadata": {},
   "outputs": [],
   "source": [
    "% load_ext autoreload\n",
    "% autoreload 1"
   ]
  },
  {
   "cell_type": "code",
   "execution_count": null,
   "id": "b48c7b9d",
   "metadata": {},
   "outputs": [],
   "source": [
    "# Ensure p33py can be imported\n",
    "\n",
    "import sys\n",
    "\n",
    "sys.path.append(\"../\")"
   ]
  },
  {
   "cell_type": "code",
   "execution_count": null,
   "id": "6aeb3bbe",
   "metadata": {},
   "outputs": [],
   "source": [
    "from p33py.data.index import index\n",
    "\n",
    "display(index[index.lifestage == 'k8'])"
   ]
  },
  {
   "cell_type": "code",
   "execution_count": null,
   "id": "1e31ee11",
   "metadata": {},
   "outputs": [],
   "source": [
    "from p33py.data.k8.noInt import calculate\n",
    "from p33py.figures import vertical_bars\n",
    "from p33py.table import table\n",
    "import plotly.io as pio\n",
    "\n",
    "# prevent transparent backgrounds, so we can see when our IDE is in dark mode\n",
    "pio.templates.default = 'p33'\n",
    "\n",
    "data = calculate()\n",
    "fig = vertical_bars(data)\n",
    "# display(data)\n",
    "# print(fig)\n",
    "\n",
    "fig.show(config=dict(displayModeBar=False))\n",
    "# display(table)"
   ]
  },
  {
   "cell_type": "code",
   "execution_count": null,
   "id": "84e70629",
   "metadata": {},
   "outputs": [],
   "source": [
    "from p33py.figures import horizontal_bar\n",
    "from p33py.theme import set_default_theme\n",
    "from p33py.data.scorecard import EI_lifestages_CHI\n",
    "\n",
    "set_default_theme()\n",
    "\n",
    "k8 = EI_lifestages_CHI[EI_lifestages_CHI['stage'] == 'k8'].copy()\n",
    "k8['area'] = 'Chicago'\n",
    "print(k8)\n",
    "lifestages_fig = horizontal_bar(k8)\n",
    "display(lifestages_fig)\n",
    "# lifestages_fig.write_image(format='svg', file='k8.svg')"
   ]
  }
 ],
 "metadata": {
  "kernelspec": {
   "display_name": "Python 3",
   "language": "python",
   "name": "python3"
  },
  "language_info": {
   "codemirror_mode": {
    "name": "ipython",
    "version": 3
   },
   "file_extension": ".py",
   "mimetype": "text/x-python",
   "name": "python",
   "nbconvert_exporter": "python",
   "pygments_lexer": "ipython3",
   "version": "3.8.13"
  },
  "vscode": {
   "interpreter": {
    "hash": "110cc1dee26208153f2972f08a2ad52b6a56238dc66d48e87fb757ef2996db56"
   }
  }
 },
 "nbformat": 4,
 "nbformat_minor": 5
}
